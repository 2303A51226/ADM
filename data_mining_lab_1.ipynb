{
  "nbformat": 4,
  "nbformat_minor": 0,
  "metadata": {
    "colab": {
      "provenance": [],
      "authorship_tag": "ABX9TyOnELZs28vd3jq1wbkTNXML",
      "include_colab_link": true
    },
    "kernelspec": {
      "name": "python3",
      "display_name": "Python 3"
    },
    "language_info": {
      "name": "python"
    }
  },
  "cells": [
    {
      "cell_type": "markdown",
      "metadata": {
        "id": "view-in-github",
        "colab_type": "text"
      },
      "source": [
        "<a href=\"https://colab.research.google.com/github/2303A51226/ADM/blob/main/data_mining_lab_1.ipynb\" target=\"_parent\"><img src=\"https://colab.research.google.com/assets/colab-badge.svg\" alt=\"Open In Colab\"/></a>"
      ]
    },
    {
      "cell_type": "code",
      "execution_count": null,
      "metadata": {
        "id": "sGxvUqi6mJms",
        "colab": {
          "base_uri": "https://localhost:8080/"
        },
        "outputId": "cde15641-4b78-4f83-971a-dd4815135063"
      },
      "outputs": [
        {
          "output_type": "stream",
          "name": "stdout",
          "text": [
            "<class 'pandas.core.frame.DataFrame'>\n",
            "RangeIndex: 2909 entries, 0 to 2908\n",
            "Data columns (total 31 columns):\n",
            " #   Column              Non-Null Count  Dtype  \n",
            "---  ------              --------------  -----  \n",
            " 0   league_name         2909 non-null   object \n",
            " 1   season              2909 non-null   int64  \n",
            " 2   rank                2909 non-null   int64  \n",
            " 3   team_id             2822 non-null   float64\n",
            " 4   team_name           2909 non-null   object \n",
            " 5   team_logo           2822 non-null   object \n",
            " 6   points              2909 non-null   int64  \n",
            " 7   goal_difference     2909 non-null   int64  \n",
            " 8   group               2790 non-null   object \n",
            " 9   form                2418 non-null   object \n",
            " 10  status              1877 non-null   object \n",
            " 11  description         1241 non-null   object \n",
            " 12  played_all          2909 non-null   int64  \n",
            " 13  wins_all            2909 non-null   int64  \n",
            " 14  draws_all           2909 non-null   int64  \n",
            " 15  losses_all          2909 non-null   int64  \n",
            " 16  goals_for_all       2909 non-null   int64  \n",
            " 17  goals_against_all   2909 non-null   int64  \n",
            " 18  played_home         2325 non-null   float64\n",
            " 19  wins_home           2325 non-null   float64\n",
            " 20  draws_home          2325 non-null   float64\n",
            " 21  losses_home         2325 non-null   float64\n",
            " 22  goals_for_home      2325 non-null   float64\n",
            " 23  goals_against_home  2325 non-null   float64\n",
            " 24  played_away         2325 non-null   float64\n",
            " 25  wins_away           2325 non-null   float64\n",
            " 26  draws_away          2325 non-null   float64\n",
            " 27  losses_away         2325 non-null   float64\n",
            " 28  goals_for_away      2325 non-null   float64\n",
            " 29  goals_against_away  2325 non-null   float64\n",
            " 30  last_updated        2909 non-null   object \n",
            "dtypes: float64(13), int64(10), object(8)\n",
            "memory usage: 704.6+ KB\n",
            "Index(['league_name', 'season', 'rank', 'team_id', 'team_name', 'team_logo',\n",
            "       'points', 'goal_difference', 'group', 'form', 'status', 'description',\n",
            "       'played_all', 'wins_all', 'draws_all', 'losses_all', 'goals_for_all',\n",
            "       'goals_against_all', 'played_home', 'wins_home', 'draws_home',\n",
            "       'losses_home', 'goals_for_home', 'goals_against_home', 'played_away',\n",
            "       'wins_away', 'draws_away', 'losses_away', 'goals_for_away',\n",
            "       'goals_against_away', 'last_updated'],\n",
            "      dtype='object')\n"
          ]
        }
      ],
      "source": [
        " import numpy as np\n",
        " import pandas as pd\n",
        " import matplotlib.pyplot as plt\n",
        " import seaborn as sns\n",
        "\n",
        " df = pd.read_csv(\"/content/season_standings_clean.csv\")\n",
        " df.head()\n",
        " df.info(verbose=True)\n",
        " print(df.columns)\n",
        " sns.pairplot(df)\n",
        " plt.show()\n",
        "\n",
        "\n"
      ]
    }
  ]
}